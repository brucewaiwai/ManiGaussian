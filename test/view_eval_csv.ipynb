{
 "cells": [
  {
   "cell_type": "code",
   "execution_count": 44,
   "metadata": {},
   "outputs": [],
   "source": [
    "import pandas as pd"
   ]
  },
  {
   "cell_type": "code",
   "execution_count": 45,
   "metadata": {},
   "outputs": [],
   "source": [
    "eval_log_dir = '../logs/ManiGaussian_BC_20240819/seed0/eval_data.csv'\n",
    "\n",
    "df_csv = pd.read_csv(eval_log_dir)"
   ]
  },
  {
   "cell_type": "code",
   "execution_count": 46,
   "metadata": {},
   "outputs": [
    {
     "data": {
      "text/plain": [
       "eval_envs/return/close_jar                      32.8\n",
       "eval_envs/return/open_drawer                    56.8\n",
       "eval_envs/return/sweep_to_dustpan_of_size       23.2\n",
       "eval_envs/return/meat_off_grill                 22.4\n",
       "eval_envs/return/turn_tap                       39.2\n",
       "eval_envs/return/slide_block_to_color_target    41.6\n",
       "eval_envs/return/put_item_in_drawer              5.6\n",
       "eval_envs/return/reach_and_drag                  8.8\n",
       "eval_envs/return/push_buttons                   40.8\n",
       "eval_envs/return/stack_blocks                    4.0\n",
       "dtype: float64"
      ]
     },
     "execution_count": 46,
     "metadata": {},
     "output_type": "execute_result"
    }
   ],
   "source": [
    "score_no_render = df_csv[[k for k in df_csv.keys() if 'return' in k]]\n",
    "score_no_render\n",
    "score_no_render.mean()"
   ]
  },
  {
   "cell_type": "code",
   "execution_count": null,
   "metadata": {},
   "outputs": [],
   "source": []
  },
  {
   "cell_type": "code",
   "execution_count": 47,
   "metadata": {},
   "outputs": [
    {
     "data": {
      "text/plain": [
       "0    56.0\n",
       "1    64.0\n",
       "2    44.0\n",
       "3    60.0\n",
       "4    60.0\n",
       "Name: eval_envs/return/open_drawer, dtype: float64"
      ]
     },
     "execution_count": 47,
     "metadata": {},
     "output_type": "execute_result"
    }
   ],
   "source": [
    "df_csv['eval_envs/return/open_drawer']"
   ]
  },
  {
   "cell_type": "code",
   "execution_count": 48,
   "metadata": {},
   "outputs": [
    {
     "data": {
      "text/plain": [
       "eval_envs/return/close_jar                      24.0\n",
       "eval_envs/return/open_drawer                    78.4\n",
       "eval_envs/return/sweep_to_dustpan_of_size       33.6\n",
       "eval_envs/return/meat_off_grill                 40.0\n",
       "eval_envs/return/turn_tap                       73.6\n",
       "eval_envs/return/slide_block_to_color_target    20.8\n",
       "eval_envs/return/put_item_in_drawer              1.6\n",
       "eval_envs/return/reach_and_drag                 27.2\n",
       "eval_envs/return/push_buttons                    9.6\n",
       "eval_envs/return/stack_blocks                    0.8\n",
       "dtype: float64"
      ]
     },
     "execution_count": 48,
     "metadata": {},
     "output_type": "execute_result"
    }
   ],
   "source": [
    "eval_log_dir = '../logs/ManiGaussian_BC_20240811/seed0/eval_data.csv'\n",
    "\n",
    "df_csv = pd.read_csv(eval_log_dir)\n",
    "score_render = df_csv[[k for k in df_csv.keys() if 'return' in k]]\n",
    "# score\n",
    "score_render.mean()"
   ]
  },
  {
   "cell_type": "code",
   "execution_count": 50,
   "metadata": {},
   "outputs": [
    {
     "data": {
      "text/html": [
       "<div>\n",
       "<style scoped>\n",
       "    .dataframe tbody tr th:only-of-type {\n",
       "        vertical-align: middle;\n",
       "    }\n",
       "\n",
       "    .dataframe tbody tr th {\n",
       "        vertical-align: top;\n",
       "    }\n",
       "\n",
       "    .dataframe thead th {\n",
       "        text-align: right;\n",
       "    }\n",
       "</style>\n",
       "<table border=\"1\" class=\"dataframe\">\n",
       "  <thead>\n",
       "    <tr style=\"text-align: right;\">\n",
       "      <th></th>\n",
       "      <th>0</th>\n",
       "      <th>1</th>\n",
       "    </tr>\n",
       "  </thead>\n",
       "  <tbody>\n",
       "    <tr>\n",
       "      <th>eval_envs/return/close_jar</th>\n",
       "      <td>32.8</td>\n",
       "      <td>24.0</td>\n",
       "    </tr>\n",
       "    <tr>\n",
       "      <th>eval_envs/return/open_drawer</th>\n",
       "      <td>56.8</td>\n",
       "      <td>78.4</td>\n",
       "    </tr>\n",
       "    <tr>\n",
       "      <th>eval_envs/return/sweep_to_dustpan_of_size</th>\n",
       "      <td>23.2</td>\n",
       "      <td>33.6</td>\n",
       "    </tr>\n",
       "    <tr>\n",
       "      <th>eval_envs/return/meat_off_grill</th>\n",
       "      <td>22.4</td>\n",
       "      <td>40.0</td>\n",
       "    </tr>\n",
       "    <tr>\n",
       "      <th>eval_envs/return/turn_tap</th>\n",
       "      <td>39.2</td>\n",
       "      <td>73.6</td>\n",
       "    </tr>\n",
       "    <tr>\n",
       "      <th>eval_envs/return/slide_block_to_color_target</th>\n",
       "      <td>41.6</td>\n",
       "      <td>20.8</td>\n",
       "    </tr>\n",
       "    <tr>\n",
       "      <th>eval_envs/return/put_item_in_drawer</th>\n",
       "      <td>5.6</td>\n",
       "      <td>1.6</td>\n",
       "    </tr>\n",
       "    <tr>\n",
       "      <th>eval_envs/return/reach_and_drag</th>\n",
       "      <td>8.8</td>\n",
       "      <td>27.2</td>\n",
       "    </tr>\n",
       "    <tr>\n",
       "      <th>eval_envs/return/push_buttons</th>\n",
       "      <td>40.8</td>\n",
       "      <td>9.6</td>\n",
       "    </tr>\n",
       "    <tr>\n",
       "      <th>eval_envs/return/stack_blocks</th>\n",
       "      <td>4.0</td>\n",
       "      <td>0.8</td>\n",
       "    </tr>\n",
       "  </tbody>\n",
       "</table>\n",
       "</div>"
      ],
      "text/plain": [
       "                                                 0     1\n",
       "eval_envs/return/close_jar                    32.8  24.0\n",
       "eval_envs/return/open_drawer                  56.8  78.4\n",
       "eval_envs/return/sweep_to_dustpan_of_size     23.2  33.6\n",
       "eval_envs/return/meat_off_grill               22.4  40.0\n",
       "eval_envs/return/turn_tap                     39.2  73.6\n",
       "eval_envs/return/slide_block_to_color_target  41.6  20.8\n",
       "eval_envs/return/put_item_in_drawer            5.6   1.6\n",
       "eval_envs/return/reach_and_drag                8.8  27.2\n",
       "eval_envs/return/push_buttons                 40.8   9.6\n",
       "eval_envs/return/stack_blocks                  4.0   0.8"
      ]
     },
     "execution_count": 50,
     "metadata": {},
     "output_type": "execute_result"
    }
   ],
   "source": [
    "pd.concat([score_no_render.mean(),score_render.mean()],axis=1)"
   ]
  }
 ],
 "metadata": {
  "kernelspec": {
   "display_name": "peract",
   "language": "python",
   "name": "python3"
  },
  "language_info": {
   "codemirror_mode": {
    "name": "ipython",
    "version": 3
   },
   "file_extension": ".py",
   "mimetype": "text/x-python",
   "name": "python",
   "nbconvert_exporter": "python",
   "pygments_lexer": "ipython3",
   "version": "3.9.19"
  }
 },
 "nbformat": 4,
 "nbformat_minor": 2
}
