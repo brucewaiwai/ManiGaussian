{
 "cells": [
  {
   "cell_type": "code",
   "execution_count": 1,
   "metadata": {},
   "outputs": [
    {
     "name": "stdout",
     "output_type": "stream",
     "text": [
      "tensor([[[-2.9900, -2.9700, -2.9500, -2.9300, -2.9100, -2.8900, -2.8700,\n",
      "          -2.8500, -2.8300, -2.8100, -2.7900, -2.7700, -2.7500, -2.7300,\n",
      "          -2.7100, -2.6900, -2.6700, -2.6500, -2.6300, -2.6100, -2.5900,\n",
      "          -2.5700, -2.5500, -2.5300, -2.5100, -2.4900, -2.4700, -2.4500,\n",
      "          -2.4300, -2.4100, -2.3900, -2.3700, -2.3500, -2.3300, -2.3100,\n",
      "          -2.2900, -2.2700, -2.2500, -2.2300, -2.2100, -2.1900, -2.1700,\n",
      "          -2.1500, -2.1300, -2.1100, -2.0900, -2.0700, -2.0500, -2.0300,\n",
      "          -2.0100, -1.9900, -1.9700, -1.9500, -1.9300, -1.9100, -1.8900,\n",
      "          -1.8700, -1.8500, -1.8300, -1.8100, -1.7900, -1.7700, -1.7500,\n",
      "          -1.7300, -1.7100, -1.6900, -1.6700, -1.6500, -1.6300, -1.6100,\n",
      "          -1.5900, -1.5700, -1.5500, -1.5300, -1.5100, -1.4900, -1.4700,\n",
      "          -1.4500, -1.4300, -1.4100, -1.3900, -1.3700, -1.3500, -1.3300,\n",
      "          -1.3100, -1.2900, -1.2700, -1.2500, -1.2300, -1.2100, -1.1900,\n",
      "          -1.1700, -1.1500, -1.1300, -1.1100, -1.0900, -1.0700, -1.0500,\n",
      "          -1.0300, -1.0100, -0.9900, -0.9700, -0.9500, -0.9300, -0.9100,\n",
      "          -0.8900, -0.8700, -0.8500, -0.8300, -0.8100, -0.7900, -0.7700,\n",
      "          -0.7500, -0.7300, -0.7100, -0.6900, -0.6700, -0.6500, -0.6300,\n",
      "          -0.6100, -0.5900, -0.5700, -0.5500, -0.5300, -0.5100, -0.4900,\n",
      "          -0.4700, -0.4500, -0.4300, -0.4100, -0.3900, -0.3700, -0.3500,\n",
      "          -0.3300, -0.3100, -0.2900, -0.2700, -0.2500, -0.2300, -0.2100,\n",
      "          -0.1900, -0.1700, -0.1500, -0.1300, -0.1100, -0.0900, -0.0700,\n",
      "          -0.0500, -0.0300, -0.0100,  0.0100,  0.0300,  0.0500,  0.0700,\n",
      "           0.0900,  0.1100,  0.1300,  0.1500,  0.1700,  0.1900,  0.2100,\n",
      "           0.2300,  0.2500,  0.2700,  0.2900,  0.3100,  0.3300,  0.3500,\n",
      "           0.3700,  0.3900,  0.4100,  0.4300,  0.4500,  0.4700,  0.4900,\n",
      "           0.5100,  0.5300,  0.5500,  0.5700,  0.5900,  0.6100,  0.6300,\n",
      "           0.6500,  0.6700,  0.6900,  0.7100,  0.7300,  0.7500,  0.7700,\n",
      "           0.7900,  0.8100,  0.8300,  0.8500,  0.8700,  0.8900,  0.9100,\n",
      "           0.9300,  0.9500,  0.9700,  0.9900,  1.0100,  1.0300,  1.0500,\n",
      "           1.0700,  1.0900,  1.1100,  1.1300,  1.1500,  1.1700,  1.1900,\n",
      "           1.2100,  1.2300,  1.2500,  1.2700,  1.2900,  1.3100,  1.3300,\n",
      "           1.3500,  1.3700,  1.3900,  1.4100,  1.4300,  1.4500,  1.4700,\n",
      "           1.4900,  1.5100,  1.5300,  1.5500,  1.5700,  1.5900,  1.6100,\n",
      "           1.6300,  1.6500,  1.6700,  1.6900,  1.7100,  1.7300,  1.7500,\n",
      "           1.7700,  1.7900,  1.8100,  1.8300,  1.8500,  1.8700,  1.8900,\n",
      "           1.9100,  1.9300,  1.9500,  1.9700,  1.9900,  2.0100,  2.0300,\n",
      "           2.0500,  2.0700,  2.0900,  2.1100,  2.1300,  2.1500,  2.1700,\n",
      "           2.1900,  2.2100,  2.2300,  2.2500,  2.2700,  2.2900,  2.3100,\n",
      "           2.3300,  2.3500,  2.3700,  2.3900,  2.4100,  2.4300,  2.4500,\n",
      "           2.4700,  2.4900,  2.5100,  2.5300,  2.5500,  2.5700,  2.5900,\n",
      "           2.6100,  2.6300,  2.6500,  2.6700,  2.6900,  2.7100,  2.7300,\n",
      "           2.7500,  2.7700,  2.7900,  2.8100,  2.8300,  2.8500,  2.8700,\n",
      "           2.8900,  2.9100,  2.9300,  2.9500,  2.9700,  2.9900,  3.0100,\n",
      "           3.0300,  3.0500,  3.0700,  3.0900,  3.1100,  3.1300,  3.1500,\n",
      "           3.1700,  3.1900,  3.2100,  3.2300,  3.2500,  3.2700,  3.2900,\n",
      "           3.3100,  3.3300,  3.3500,  3.3700,  3.3900,  3.4100,  3.4300,\n",
      "           3.4500,  3.4700,  3.4900,  3.5100,  3.5300,  3.5500,  3.5700,\n",
      "           3.5900,  3.6100,  3.6300,  3.6500,  3.6700,  3.6900,  3.7100,\n",
      "           3.7300,  3.7500,  3.7700,  3.7900,  3.8100,  3.8300,  3.8500,\n",
      "           3.8700,  3.8900,  3.9100,  3.9300,  3.9500,  3.9700,  3.9900,\n",
      "           4.0100,  4.0300,  4.0500,  4.0700,  4.0900,  4.1100,  4.1300,\n",
      "           4.1500,  4.1700,  4.1900,  4.2100,  4.2300,  4.2500,  4.2700,\n",
      "           4.2900,  4.3100,  4.3300,  4.3500,  4.3700,  4.3900,  4.4100,\n",
      "           4.4300,  4.4500,  4.4700,  4.4900,  4.5100,  4.5300,  4.5500,\n",
      "           4.5700,  4.5900,  4.6100,  4.6300,  4.6500,  4.6700,  4.6900,\n",
      "           4.7100,  4.7300,  4.7500,  4.7700,  4.7900,  4.8100,  4.8300,\n",
      "           4.8500,  4.8700,  4.8900,  4.9100,  4.9300,  4.9500,  4.9700,\n",
      "           4.9900,  5.0100,  5.0300,  5.0500,  5.0700,  5.0900,  5.1100,\n",
      "           5.1300,  5.1500,  5.1700,  5.1900,  5.2100,  5.2300,  5.2500,\n",
      "           5.2700,  5.2900,  5.3100,  5.3300,  5.3500,  5.3700,  5.3900,\n",
      "           5.4100,  5.4300,  5.4500,  5.4700,  5.4900,  5.5100,  5.5300,\n",
      "           5.5500,  5.5700,  5.5900,  5.6100,  5.6300,  5.6500,  5.6700,\n",
      "           5.6900,  5.7100,  5.7300,  5.7500,  5.7700,  5.7900,  5.8100,\n",
      "           5.8300,  5.8500,  5.8700,  5.8900,  5.9100,  5.9300,  5.9500,\n",
      "           5.9700,  5.9900,  6.0100,  6.0300,  6.0500,  6.0700,  6.0900,\n",
      "           6.1100,  6.1300,  6.1500,  6.1700,  6.1900,  6.2100,  6.2300,\n",
      "           6.2500,  6.2700,  6.2900,  6.3100,  6.3300,  6.3500,  6.3700,\n",
      "           6.3900,  6.4100,  6.4300,  6.4500,  6.4700,  6.4900,  6.5100,\n",
      "           6.5300,  6.5500,  6.5700,  6.5900,  6.6100,  6.6300,  6.6500,\n",
      "           6.6700,  6.6900,  6.7100,  6.7300,  6.7500,  6.7700,  6.7900,\n",
      "           6.8100,  6.8300,  6.8500,  6.8700,  6.8900,  6.9100,  6.9300,\n",
      "           6.9500,  6.9700,  6.9900]]]) tensor([[[-1.9950, -1.9950, -1.9950, -1.9950, -1.9950, -1.9950, -1.9950,\n",
      "          -1.9950, -1.9950, -1.9950, -1.9950, -1.9950, -1.9950, -1.9950,\n",
      "          -1.9950, -1.9950, -1.9950, -1.9950, -1.9950, -1.9950, -1.9950,\n",
      "          -1.9950, -1.9950, -1.9950, -1.9950, -1.9950, -1.9950, -1.9950,\n",
      "          -1.9950, -1.9950, -1.9950, -1.9950, -1.9950, -1.9950, -1.9950,\n",
      "          -1.9950, -1.9950, -1.9950, -1.9950, -1.9950, -1.9950, -1.9950,\n",
      "          -1.9950, -1.9950, -1.9950, -1.9950, -1.9950, -1.9950, -1.9950,\n",
      "          -1.9950, -1.9950, -1.9950, -1.9950, -1.9950, -1.9950, -1.9950,\n",
      "          -1.9950, -1.9950, -1.9950, -1.9950, -1.9950, -1.9950, -1.9950,\n",
      "          -1.9950, -1.9950, -1.9950, -1.9950, -1.9950, -1.9950, -1.9950,\n",
      "          -1.9950, -1.9950, -1.9950, -1.9950, -1.9950, -1.9950, -1.9950,\n",
      "          -1.9950, -1.9950, -1.9950, -1.9950, -1.9950, -1.9950, -1.9950,\n",
      "          -1.9950, -1.9950, -1.9950, -1.9950, -1.9950, -1.9950, -1.9950,\n",
      "          -1.9950, -1.9950, -1.9950, -1.9950, -1.9950, -1.9950, -1.9950,\n",
      "          -1.9950, -1.9950, -1.9950, -1.9950, -1.9950, -1.9950, -1.9950,\n",
      "          -1.9950, -1.9950, -1.9950, -1.9950, -1.9950, -1.9950, -1.9950,\n",
      "          -1.9950, -1.9950, -1.9950, -1.9950, -1.9950, -1.9950, -1.9950,\n",
      "          -1.9950, -1.9950, -1.9950, -1.9950, -1.9950, -1.9950, -1.9950,\n",
      "          -1.9950, -1.9950, -1.9950, -1.9950, -1.9950, -1.9950, -1.9950,\n",
      "          -1.9950, -1.9950, -1.9950, -1.9950, -1.9950, -1.9950, -1.9950,\n",
      "          -1.9950, -1.9950, -1.9950, -1.9950, -1.9950, -1.9950, -1.9950,\n",
      "          -1.9950, -1.9950, -1.9950, -1.9950, -1.9950, -1.9950, -1.9950,\n",
      "          -1.9950, -1.9950, -1.9950, -1.9950, -1.9950, -1.9950, -1.9950,\n",
      "          -1.9950, -1.9950, -1.9950, -1.9950, -1.9950, -1.9950, -1.9950,\n",
      "          -1.9950, -1.9950, -1.9950, -1.9950, -1.9950, -1.9950, -1.9950,\n",
      "          -1.9950, -1.9950, -1.9950, -1.9950, -1.9950, -1.9950, -1.9950,\n",
      "          -1.9950, -1.9950, -1.9950, -1.9950, -1.9950, -1.9950, -1.9950,\n",
      "          -1.9950, -1.9950, -1.9950, -1.9950, -1.9950, -1.9950, -1.9950,\n",
      "          -1.9950, -1.9950, -1.9950, -1.9950, -1.9950, -1.9950, -1.9950,\n",
      "          -1.9950, -1.9950, -1.9950, -1.9950, -1.9950, -1.9950, -1.9950,\n",
      "          -1.9950, -1.9950, -1.9950, -1.9950, -1.9950, -1.9950, -1.9950,\n",
      "          -1.9950, -1.9950, -1.9950, -1.9950, -1.9950, -1.9950, -1.9950,\n",
      "          -1.9950, -1.9950, -1.9950, -1.9950, -1.9950, -1.9950, -1.9950,\n",
      "          -1.9950, -1.9950, -1.9950, -1.9950, -1.9950, -1.9950, -1.9950,\n",
      "          -1.9950, -1.9950, -1.9950, -1.9950, -1.9950, -1.9950, -1.9950,\n",
      "          -1.9950, -1.9950, -1.9950, -1.9950, -1.9950, -1.9950, -1.9950,\n",
      "          -1.9950, -1.9950, -1.9950, -1.9950, -1.9950, -1.9950, -1.9950,\n",
      "          -1.9950, -1.9950, -1.9950, -1.9950, -1.9950, -1.9950, -1.9950,\n",
      "          -1.9950, -1.9950, -1.9950, -1.9950, -1.9950, -1.9950, -1.9950,\n",
      "          -1.9950, -1.9950, -1.9950, -1.9950, -1.9950, -1.9950, -1.9950,\n",
      "          -1.9950, -1.9950, -1.9950, -1.9950, -1.9950, -1.9950, -1.9950,\n",
      "          -1.9950, -1.9950, -1.9950, -1.9950, -1.9950, -1.9950, -1.9950,\n",
      "          -1.9950, -1.9950, -1.9950, -1.9950, -1.9950, -1.9950, -1.9950,\n",
      "          -1.9950, -1.9950, -1.9950, -1.9950, -1.9950, -1.9950, -1.9950,\n",
      "          -1.9950, -1.9950, -1.9950, -1.9950, -1.9950, -1.9950, -1.9950,\n",
      "          -1.9950, -1.9950, -1.9950, -1.9950, -1.9950, -1.9950, -1.9950,\n",
      "          -1.9950, -1.9950, -1.9950, -1.9950, -1.9950, -1.9950, -1.9950,\n",
      "          -1.9950, -1.9950, -1.9950, -1.9950, -1.9950, -1.9950, -1.9950,\n",
      "          -1.9950, -1.9950, -1.9950, -1.9950, -1.9950, -1.9950, -1.9950,\n",
      "          -1.9950, -1.9950, -1.9950, -1.9950, -1.9950, -1.9950, -1.9950,\n",
      "          -1.9950, -1.9950, -1.9950, -1.9950, -1.9950, -1.9950, -1.9950,\n",
      "          -1.9950, -1.9950, -1.9950, -1.9950, -1.9950, -1.9950, -1.9950,\n",
      "          -1.9950, -1.9950, -1.9950, -1.9950, -1.9950, -1.9950, -1.9950,\n",
      "          -1.9950, -1.9950, -1.9950, -1.9950, -1.9950, -1.9950, -1.9950,\n",
      "          -1.9950, -1.9950, -1.9950, -1.9950, -1.9950, -1.9950, -1.9950,\n",
      "          -1.9950, -1.9950, -1.9950, -1.9950, -1.9950, -1.9950, -1.9950,\n",
      "          -1.9950, -1.9950, -1.9950, -1.9950, -1.9950, -1.9950, -1.9950,\n",
      "          -1.9950, -1.9950, -1.9950, -1.9950, -1.9950, -1.9950, -1.9950,\n",
      "          -1.9950, -1.9950, -1.9950, -1.9950, -1.9950, -1.9950, -1.9950,\n",
      "          -1.9950, -1.9950, -1.9950, -1.9950, -1.9950, -1.9950, -1.9950,\n",
      "          -1.9950, -1.9950, -1.9950, -1.9950, -1.9950, -1.9950, -1.9950,\n",
      "          -1.9950, -1.9950, -1.9950, -1.9950, -1.9950, -1.9950, -1.9950,\n",
      "          -1.9950, -1.9950, -1.9950, -1.9950, -1.9950, -1.9950, -1.9950,\n",
      "          -1.9950, -1.9950, -1.9950, -1.9950, -1.9950, -1.9950, -1.9950,\n",
      "          -1.9950, -1.9950, -1.9950, -1.9950, -1.9950, -1.9950, -1.9950,\n",
      "          -1.9950, -1.9950, -1.9950, -1.9950, -1.9950, -1.9950, -1.9950,\n",
      "          -1.9950, -1.9950, -1.9950, -1.9950, -1.9950, -1.9950, -1.9950,\n",
      "          -1.9950, -1.9950, -1.9950, -1.9950, -1.9950, -1.9950, -1.9950,\n",
      "          -1.9950, -1.9950, -1.9950, -1.9950, -1.9950, -1.9950, -1.9950,\n",
      "          -1.9950, -1.9950, -1.9950, -1.9950, -1.9950, -1.9950, -1.9950,\n",
      "          -1.9950, -1.9950, -1.9950, -1.9950, -1.9950, -1.9950, -1.9950,\n",
      "          -1.9950, -1.9950, -1.9950]]])\n"
     ]
    }
   ],
   "source": [
    "\n",
    "import torch\n",
    "import numpy as np\n",
    "import cv2\n",
    "import torch.nn.functional as F\n",
    "import matplotlib.pyplot as plt\n",
    "\n",
    "h, w = 1, 500\n",
    "x0, y0, x1, y1 = torch.tensor([[100]]), torch.tensor([[100]]), torch.tensor([[200]]), torch.tensor([[300]])\n",
    "N = 1\n",
    "x0_int, y0_int = 0, 0\n",
    "x1_int, y1_int = w, h\n",
    "img_y = torch.arange(y0_int, y1_int, dtype=torch.float32) + 0.5\n",
    "img_x = torch.arange(x0_int, x1_int, dtype=torch.float32) + 0.5\n",
    "img_y = (img_y - y0) / (y1 - y0) * 2 - 1\n",
    "img_x = (img_x - x0) / (x1 - x0) * 2 - 1\n",
    "\n",
    "gx = img_x[:, None, :].expand(N, img_y.size(1), img_x.size(1))\n",
    "gy = img_y[:, :, None].expand(N, img_y.size(1), img_x.size(1))\n",
    "grid = torch.stack([gx, gy], dim=3)\n",
    "print(gx,gy)"
   ]
  },
  {
   "cell_type": "code",
   "execution_count": 2,
   "metadata": {},
   "outputs": [
    {
     "data": {
      "text/plain": [
       "torch.Size([1, 1, 500, 2])"
      ]
     },
     "execution_count": 2,
     "metadata": {},
     "output_type": "execute_result"
    }
   ],
   "source": [
    "grid.shape"
   ]
  },
  {
   "cell_type": "code",
   "execution_count": 3,
   "metadata": {},
   "outputs": [
    {
     "name": "stdout",
     "output_type": "stream",
     "text": [
      "torch.Size([1, 1, 100, 100])\n",
      "torch.Size([1, 1, 1, 500])\n"
     ]
    },
    {
     "data": {
      "image/png": "[encoded data removed]",
      "text/plain": [
       "<Figure size 640x480 with 1 Axes>"
      ]
     },
     "metadata": {},
     "output_type": "display_data"
    }
   ],
   "source": [
    "mask = np.zeros((100, 100), dtype=np.uint8)\n",
    "ct = np.array([[50, 0],[99, 50], [50, 99], [0, 50]], dtype=np.int32)\n",
    "mask = cv2.drawContours(mask, [ct], -1, 255,  cv2.FILLED)\n",
    "plt.figure(1)\n",
    "plt.imshow(mask)\n",
    "mask = torch.from_numpy(mask)\n",
    "masks = mask[None, None, :]\n",
    "print(masks.shape)\n",
    "if not torch.jit.is_scripting():\n",
    "    if not masks.dtype.is_floating_point:\n",
    "        masks = masks.float()\n",
    "        \n",
    "img_masks = F.grid_sample(masks, grid.to(masks.dtype), align_corners=False)\n",
    "print(img_masks.shape)\n",
    "# plt.figure(2)\n",
    "# plt.imshow(img_masks.squeeze().numpy().astype(np.uint8))"
   ]
  },
  {
   "cell_type": "code",
   "execution_count": 4,
   "metadata": {},
   "outputs": [
    {
     "data": {
      "text/plain": [
       "<matplotlib.image.AxesImage at 0x76cc4a1f9850>"
      ]
     },
     "execution_count": 4,
     "metadata": {},
     "output_type": "execute_result"
    },
    {
     "data": {
      "image/png": "[encoded data removed]",
      "text/plain": [
       "<Figure size 640x480 with 1 Axes>"
      ]
     },
     "metadata": {},
     "output_type": "display_data"
    }
   ],
   "source": [
    "maze = torch.tensor([[0,0,0,0],\n",
    "                     [0,0,1,0],\n",
    "                     [0,1,0,0],\n",
    "                     [0,0,0,0]],\n",
    "                    )\n",
    "\n",
    "plt.imshow(maze,cmap='grey')"
   ]
  },
  {
   "cell_type": "code",
   "execution_count": 5,
   "metadata": {},
   "outputs": [
    {
     "data": {
      "text/plain": [
       "torch.Size([1, 1, 4, 4])"
      ]
     },
     "execution_count": 5,
     "metadata": {},
     "output_type": "execute_result"
    }
   ],
   "source": [
    "maze = maze[None,None,...].to(dtype=torch.float)\n",
    "maze.shape"
   ]
  },
  {
   "cell_type": "code",
   "execution_count": 6,
   "metadata": {},
   "outputs": [
    {
     "data": {
      "text/plain": [
       "torch.Size([1, 1, 4, 2])"
      ]
     },
     "execution_count": 6,
     "metadata": {},
     "output_type": "execute_result"
    }
   ],
   "source": [
    "pcd = torch.tensor([[1,1],\n",
    "                    [1,2],\n",
    "                    [2,1],\n",
    "                    [2,2]])\n",
    "pcd = pcd[None,None,...]/3 *2 - 1\n",
    "pcd.shape"
   ]
  },
  {
   "cell_type": "code",
   "execution_count": 7,
   "metadata": {},
   "outputs": [],
   "source": [
    "v = F.grid_sample(maze,pcd,align_corners=True,)"
   ]
  },
  {
   "cell_type": "code",
   "execution_count": 8,
   "metadata": {},
   "outputs": [
    {
     "data": {
      "text/plain": [
       "(torch.Size([1, 1, 1, 4]), tensor([[[[0., 1., 1., 0.]]]]))"
      ]
     },
     "execution_count": 8,
     "metadata": {},
     "output_type": "execute_result"
    }
   ],
   "source": [
    "v.shape,v"
   ]
  },
  {
   "cell_type": "code",
   "execution_count": 31,
   "metadata": {},
   "outputs": [
    {
     "name": "stdout",
     "output_type": "stream",
     "text": [
      "torch.Size([1])\n"
     ]
    },
    {
     "data": {
      "text/plain": [
       "torch.Size([16384, 1])"
      ]
     },
     "execution_count": 31,
     "metadata": {},
     "output_type": "execute_result"
    }
   ],
   "source": [
    "proprio = torch.rand(1,4)\n",
    "# print(time)\n",
    "time = proprio[...,-1]\n",
    "print(time.shape)\n",
    "time.expand(16384,1).shape"
   ]
  },
  {
   "cell_type": "code",
   "execution_count": 4,
   "metadata": {},
   "outputs": [
    {
     "ename": "TypeError",
     "evalue": "twosum() missing 1 required positional argument: 'target'",
     "output_type": "error",
     "traceback": [
      "\u001b[0;31m---------------------------------------------------------------------------\u001b[0m",
      "\u001b[0;31mTypeError\u001b[0m                                 Traceback (most recent call last)",
      "Cell \u001b[0;32mIn[4], line 13\u001b[0m\n\u001b[1;32m     11\u001b[0m nums \u001b[38;5;241m=\u001b[39m [\u001b[38;5;241m2\u001b[39m,\u001b[38;5;241m15\u001b[39m,\u001b[38;5;241m6\u001b[39m,\u001b[38;5;241m7\u001b[39m]\n\u001b[1;32m     12\u001b[0m target \u001b[38;5;241m=\u001b[39m \u001b[38;5;241m9\u001b[39m\n\u001b[0;32m---> 13\u001b[0m \u001b[38;5;28mprint\u001b[39m(\u001b[43mtwosum\u001b[49m\u001b[43m(\u001b[49m\u001b[43mnums\u001b[49m\u001b[43m,\u001b[49m\u001b[43mtarget\u001b[49m\u001b[43m)\u001b[49m)\n",
      "\u001b[0;31mTypeError\u001b[0m: twosum() missing 1 required positional argument: 'target'"
     ]
    }
   ],
   "source": [
    "def twosum(self, nums, target):\n",
    "    numMap = {}\n",
    "    n = len(nums)\n",
    "    for i in range(n):\n",
    "        c = target - nums[i]\n",
    "        if c in numMap:\n",
    "            return [numMap[c],i]\n",
    "        numMap[nums[i]] = i\n",
    "    return []\n",
    "\n",
    "nums = [2,15,6,7]\n",
    "target = 9\n",
    "print(twosum(nums,target))"
   ]
  },
  {
   "cell_type": "code",
   "execution_count": null,
   "metadata": {},
   "outputs": [],
   "source": [
    "import torch\n",
    "\n",
    "voxel_values_pruned_flat = torch.rand(1,16384,7)"
   ]
  },
  {
   "cell_type": "code",
   "execution_count": null,
   "metadata": {},
   "outputs": [],
   "source": [
    "_ones_max_coords = torch.ones((1, 16384, 1))\n",
    "_ones_max_coords[:, :16384].shape"
   ]
  },
  {
   "cell_type": "code",
   "execution_count": null,
   "metadata": {},
   "outputs": [],
   "source": [
    "voxel_values_pruned_flat.view(-1,7).shape"
   ]
  },
  {
   "cell_type": "code",
   "execution_count": null,
   "metadata": {},
   "outputs": [],
   "source": [
    "batch_indices = torch.arange(1, dtype=torch.int).view(1, 1, 1)\n",
    "_tiled_batch_indices = batch_indices.repeat([1, 16384, 1])\n",
    "batch_indices.shape, _tiled_batch_indices.shape\n",
    "# self.register_buffer('_tiled_batch_indices', batch_indices.repeat([1, 16384, 1]))"
   ]
  },
  {
   "cell_type": "code",
   "execution_count": null,
   "metadata": {},
   "outputs": [],
   "source": [
    "_tiled_batch_indices[:, :16384].shape\n",
    "all_indices = torch.rand(16384,4)\n"
   ]
  },
  {
   "cell_type": "code",
   "execution_count": null,
   "metadata": {},
   "outputs": [],
   "source": [
    "d = torch.rand(100,100,100,7)\n",
    "# print(d)\n",
    "print(d[...,-1:].shape)"
   ]
  },
  {
   "cell_type": "code",
   "execution_count": null,
   "metadata": {},
   "outputs": [],
   "source": [
    "w = 100 + 2\n",
    "arange = torch.arange(0, w, dtype=torch.float, )\n",
    "index_grid = torch.cat([\n",
    "            arange.view(w, 1, 1, 1).repeat([1, w, w, 1]),\n",
    "            arange.view(1, w, 1, 1).repeat([w, 1, w, 1]),\n",
    "            arange.view(1, 1, w, 1).repeat([w, w, 1, 1])], dim=-1).unsqueeze(\n",
    "            0).repeat([1, 1, 1, 1, 1])"
   ]
  },
  {
   "cell_type": "code",
   "execution_count": null,
   "metadata": {},
   "outputs": [],
   "source": [
    "index_grid.shape"
   ]
  }
 ],
 "metadata": {
  "kernelspec": {
   "display_name": "manigaussian",
   "language": "python",
   "name": "python3"
  },
  "language_info": {
   "codemirror_mode": {
    "name": "ipython",
    "version": 3
   },
   "file_extension": ".py",
   "mimetype": "text/x-python",
   "name": "python",
   "nbconvert_exporter": "python",
   "pygments_lexer": "ipython3",
   "version": "3.9.19"
  }
 },
 "nbformat": 4,
 "nbformat_minor": 2
}
