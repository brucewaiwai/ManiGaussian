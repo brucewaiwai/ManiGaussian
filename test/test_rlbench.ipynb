{
 "cells": [
  {
   "cell_type": "code",
   "execution_count": 1,
   "metadata": {},
   "outputs": [],
   "source": [
    "import numpy as np\n",
    "\n",
    "from rlbench.action_modes.action_mode import MoveArmThenGripper\n",
    "from rlbench.action_modes.arm_action_modes import JointVelocity\n",
    "from rlbench.action_modes.gripper_action_modes import Discrete\n",
    "from rlbench.environment import Environment\n",
    "from rlbench.observation_config import ObservationConfig\n",
    "from rlbench.tasks import ReachTarget, CloseDoor, CloseJar\n",
    "\n"
   ]
  },
  {
   "cell_type": "code",
   "execution_count": 2,
   "metadata": {},
   "outputs": [],
   "source": [
    "\n",
    "\n",
    "# To use 'saved' demos, set the path below, and set live_demos=False\n",
    "live_demos = True\n",
    "DATASET = '' if live_demos else 'PATH/TO/YOUR/DATASET'\n",
    "\n",
    "obs_config = ObservationConfig()\n",
    "obs_config.set_all(True)\n",
    "obs_config.task_low_dim_state = False\n",
    "\n",
    "env = Environment(\n",
    "    # dataset_root='../data',\n",
    "    action_mode=MoveArmThenGripper(\n",
    "        arm_action_mode=JointVelocity(), gripper_action_mode=Discrete()),\n",
    "    obs_config=obs_config,\n",
    "    headless=False)\n",
    "env.launch()\n",
    "\n",
    "task = env.get_task(ReachTarget)\n",
    "\n",
    "# demos = env.get_demos(task_name='close_jar',amount = 1)\n",
    "\n",
    "demos = task.get_demos(1, live_demos=live_demos)  # -> List[List[Observation]]\n",
    "# demos = np.array(demos).flatten()\n",
    "\n"
   ]
  },
  {
   "cell_type": "code",
   "execution_count": 3,
   "metadata": {},
   "outputs": [
    {
     "name": "stdout",
     "output_type": "stream",
     "text": [
      "[CoppeliaSim:loadinfo]   done.\n"
     ]
    }
   ],
   "source": [
    "\n",
    "env.shutdown()\n"
   ]
  }
 ],
 "metadata": {
  "kernelspec": {
   "display_name": "manigaussian",
   "language": "python",
   "name": "python3"
  },
  "language_info": {
   "codemirror_mode": {
    "name": "ipython",
    "version": 3
   },
   "file_extension": ".py",
   "mimetype": "text/x-python",
   "name": "python",
   "nbconvert_exporter": "python",
   "pygments_lexer": "ipython3",
   "version": "3.9.19"
  }
 },
 "nbformat": 4,
 "nbformat_minor": 2
}
